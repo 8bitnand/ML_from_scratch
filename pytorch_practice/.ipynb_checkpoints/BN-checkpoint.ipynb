{
 "cells": [
  {
   "cell_type": "code",
   "execution_count": 2,
   "id": "df2fc379-1dc2-4e25-8180-c44c2b34323d",
   "metadata": {},
   "outputs": [],
   "source": [
    "import torch.nn as nn\n",
    "import torch"
   ]
  },
  {
   "cell_type": "markdown",
   "id": "7819e7a0-3bcc-4709-9332-24de10b41376",
   "metadata": {},
   "source": [
    "#### Batch Normalization \n",
    "\n",
    "https://arxiv.org/pdf/1502.03167"
   ]
  },
  {
   "cell_type": "code",
   "execution_count": 27,
   "id": "ba2e76dc-b05c-479c-a1a2-f038c1ae9ba9",
   "metadata": {},
   "outputs": [],
   "source": [
    "B, C = 2 , 3  \n",
    "x1 = torch.randn((B, C))"
   ]
  },
  {
   "cell_type": "code",
   "execution_count": 28,
   "id": "76a976a1-32d8-4576-9494-5eb1d20165d1",
   "metadata": {},
   "outputs": [
    {
     "name": "stdout",
     "output_type": "stream",
     "text": [
      "torch.Size([3]) torch.Size([3])\n"
     ]
    }
   ],
   "source": [
    "\n",
    "# BN1d : b, c -> 1, c \n",
    "\n",
    "m = torch.mean(x1, dim=0)\n",
    "sd = torch.sqrt(torch.var(x1, dim=0, unbiased=False)+ 1e-5)\n",
    "print(m.shape, sd.shape)"
   ]
  },
  {
   "cell_type": "code",
   "execution_count": 7,
   "id": "f651caac-e5e1-4236-927c-7245d5b1dca7",
   "metadata": {},
   "outputs": [
    {
     "name": "stdout",
     "output_type": "stream",
     "text": [
      "tensor([[ 1.0000,  1.0000, -0.9998],\n",
      "        [-1.0000, -1.0000,  0.9998]], grad_fn=<NativeBatchNormBackward0>)\n"
     ]
    }
   ],
   "source": [
    "bn = nn.BatchNorm1d(C, momentum=None, affine=True, track_running_stats=False)\n",
    "print(bn(x1))\n"
   ]
  },
  {
   "cell_type": "code",
   "execution_count": 11,
   "id": "41080f12-2c93-400b-b5aa-cb9bf1be5c4f",
   "metadata": {},
   "outputs": [],
   "source": [
    "B, H, W, C = 2, 4, 4, 3  \n",
    "x = torch.randn((B, C, W, H))\n"
   ]
  },
  {
   "cell_type": "code",
   "execution_count": 15,
   "id": "4d0c1ef2-d244-4700-bdd9-b15154e3f2fe",
   "metadata": {},
   "outputs": [],
   "source": [
    "bn2d = nn.BatchNorm2d(C, momentum=None, affine=True, track_running_stats=False)\n"
   ]
  },
  {
   "cell_type": "markdown",
   "id": "0aa5297c-1780-4930-9e02-f469566ab4e5",
   "metadata": {},
   "source": [
    "\n",
    "BN2d : b, c, w, h, -> 1, c, 1, 1\n",
    "\n"
   ]
  },
  {
   "cell_type": "code",
   "execution_count": 24,
   "id": "95a3ae8d-d327-4c10-b7b8-67a2611beb41",
   "metadata": {},
   "outputs": [
    {
     "name": "stdout",
     "output_type": "stream",
     "text": [
      "torch.Size([3, 4, 4]) torch.Size([3, 4, 4])\n"
     ]
    }
   ],
   "source": []
  },
  {
   "cell_type": "code",
   "execution_count": 25,
   "id": "5f5120b0-169a-4d4f-9626-ab47d65ca3bf",
   "metadata": {},
   "outputs": [
    {
     "data": {
      "text/plain": [
       "tensor([[[ 0.5816,  1.3654, -0.3119,  0.4730],\n",
       "         [ 0.0911, -0.4198,  1.3848, -0.3551],\n",
       "         [ 1.3847,  0.3076,  0.0913, -0.2588],\n",
       "         [ 0.8569,  0.5612, -0.6663,  0.9285]],\n",
       "\n",
       "        [[-0.1612, -0.4519,  0.4660,  0.3685],\n",
       "         [-1.0211, -0.9725,  0.9910, -0.5040],\n",
       "         [-1.3608,  0.1291,  0.2814,  0.0796],\n",
       "         [-0.1170, -0.4887,  0.6428, -0.0200]],\n",
       "\n",
       "        [[-0.7291, -0.1567,  0.5059, -0.8006],\n",
       "         [-0.8922, -1.5572,  0.3657, -2.4019],\n",
       "         [-0.2330,  0.6987,  1.1229, -0.6768],\n",
       "         [-0.5768,  0.0843,  0.8060, -0.1886]]])"
      ]
     },
     "execution_count": 25,
     "metadata": {},
     "output_type": "execute_result"
    }
   ],
   "source": [
    "m"
   ]
  },
  {
   "cell_type": "code",
   "execution_count": 12,
   "id": "ad20dd8e-27ec-4d03-9cdd-950337559b65",
   "metadata": {},
   "outputs": [],
   "source": [
    "x_norm = (x - m)/sd"
   ]
  },
  {
   "cell_type": "code",
   "execution_count": 9,
   "id": "846364b2-dd2c-42fa-a0b5-c071983972b7",
   "metadata": {},
   "outputs": [
    {
     "data": {
      "text/plain": [
       "tensor([ 0.2294,  0.1526, -1.3078])"
      ]
     },
     "execution_count": 9,
     "metadata": {},
     "output_type": "execute_result"
    }
   ],
   "source": [
    "class BatchNorm(nn.Module):\n",
    "    def __init__(self, num_features, affine=True, track_running_stats=True):\n",
    "        if affine:\n",
    "            gamma = nn.Parmeter(torch.ones(num_features))\n",
    "            beta = nn.Parmeter(torch.zeros(num_features))\n",
    "            \n",
    "        "
   ]
  },
  {
   "cell_type": "code",
   "execution_count": 10,
   "id": "2dc45601-fd59-4d14-8a17-fe920771e62b",
   "metadata": {},
   "outputs": [
    {
     "data": {
      "text/plain": [
       "tensor([0.8617, 0.6122, 0.5998])"
      ]
     },
     "execution_count": 10,
     "metadata": {},
     "output_type": "execute_result"
    }
   ],
   "source": []
  },
  {
   "cell_type": "code",
   "execution_count": null,
   "id": "8550bcd2-a325-496c-82be-4b2644d7b4ab",
   "metadata": {},
   "outputs": [],
   "source": []
  }
 ],
 "metadata": {
  "kernelspec": {
   "display_name": "Python 3 (ipykernel)",
   "language": "python",
   "name": "python3"
  },
  "language_info": {
   "codemirror_mode": {
    "name": "ipython",
    "version": 3
   },
   "file_extension": ".py",
   "mimetype": "text/x-python",
   "name": "python",
   "nbconvert_exporter": "python",
   "pygments_lexer": "ipython3",
   "version": "3.9.13"
  }
 },
 "nbformat": 4,
 "nbformat_minor": 5
}
